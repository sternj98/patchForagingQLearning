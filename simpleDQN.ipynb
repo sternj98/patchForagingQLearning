{
 "cells": [
  {
   "cell_type": "code",
   "execution_count": 1,
   "metadata": {},
   "outputs": [],
   "source": [
    "import numpy as np\n",
    "from numpy import random as rnd\n",
    "import random\n",
    "from matplotlib import pyplot as plt\n",
    "import torch\n",
    "import torch.nn"
   ]
  },
  {
   "cell_type": "markdown",
   "metadata": {},
   "source": [
    "## First, tabular Q-learning\n",
    "game from https://github.com/shakedzy/notebooks/blob/master/q_learning_and_dqn/Q%20Learning%20and%20Deep%20Q%20Network.ipynb\n",
    "\n",
    "and structure inspired by Gaston Sivori, OIST"
   ]
  },
  {
   "cell_type": "code",
   "execution_count": 40,
   "metadata": {},
   "outputs": [],
   "source": [
    "class Environment():\n",
    "    board = None\n",
    "    board_size = 0\n",
    "    def __init__(self, board_size=4):\n",
    "        self.board_size = board_size\n",
    "        self.game_over = False\n",
    "        self.terminal_state = np.ones(4).astype(int)\n",
    "        self.reset()\n",
    "    \n",
    "    def reset(self): # new game\n",
    "        self.state = np.zeros(self.board_size).astype(int) # [0,0,0,0]\n",
    "        self.game_over = False\n",
    "    \n",
    "    def execute_action(self, action):\n",
    "        # returns a tuple: (reward, game_over?)\n",
    "        if self.state[action] == 0:\n",
    "            self.state[action] = 1\n",
    "            self.game_over = (len(np.where(self.state == 0)[0]) == 0)\n",
    "            return 1\n",
    "        else:\n",
    "            return -1\n",
    "\n",
    "class Agent():\n",
    "    def __init__(self, board_size):\n",
    "        self.Q = np.zeros((2,2,2,2,4)) # just make 4x1 games for now: 4 actions per 2^4 possible game states\n",
    "        self.epsilon = .9\n",
    "        self.gamma = 1\n",
    "        self.lr = .1\n",
    "        \n",
    "    def select_action(self,state):\n",
    "        if rnd.rand() < self.epsilon: # greedy action !kachow!\n",
    "            return np.argmax(self.Q[tuple(state)])\n",
    "        else:\n",
    "            return random.choice(list(range(board_size)))\n",
    "        \n",
    "    def greedy_action(self,state):\n",
    "        return np.argmax(self.Q[tuple(state)])\n",
    "    \n",
    "    def update(self,old_state,new_state,action,reward):\n",
    "        q_old = self.Q[tuple(old_state) + (action,)] # Old Q value\n",
    "        future_action = self.greedy_action(new_state) # Select next best action\n",
    "        \n",
    "        EV_new = self.Q[tuple(new_state) + (future_action,)] # What is reward for the best next action?\n",
    "        \n",
    "        if sum(new_state) == 4:\n",
    "            EV_new = 0 # not a meaningful value\n",
    "        \n",
    "        rpe = self.lr * (reward + self.gamma * EV_new - q_old)\n",
    "            \n",
    "        self.Q[tuple(old_state) + (action,)] += rpe # update\n",
    "        \n",
    "class RLInterface():\n",
    "    def __init__(self,agent,environment):\n",
    "        self.agent = agent\n",
    "        self.env = environment\n",
    "        self.rewlist = []\n",
    "\n",
    "    def step(self):\n",
    "        old_state = env.state.copy()\n",
    "\n",
    "        action = self.agent.select_action(old_state) # agent selects action\n",
    "        rew = self.env.execute_action(action) # execute agent action into the environment\n",
    "        new_state = env.state.copy()\n",
    "        \n",
    "        rpe = self.agent.update(old_state,new_state,action,rew) # update Q\n",
    "        \n",
    "        return rew\n",
    "    \n",
    "    def runTrials(self,nTrials):\n",
    "        for i in range(nTrials):\n",
    "            env.reset()\n",
    "            total_rew = 0\n",
    "            while not self.env.game_over:\n",
    "                rew = self.step()\n",
    "                total_rew += rew\n",
    "            self.rewlist.append(total_rew)\n"
   ]
  },
  {
   "cell_type": "code",
   "execution_count": 41,
   "metadata": {},
   "outputs": [
    {
     "data": {
      "text/plain": [
       "[<matplotlib.lines.Line2D at 0x12aa5e588>]"
      ]
     },
     "execution_count": 41,
     "metadata": {},
     "output_type": "execute_result"
    },
    {
     "data": {
      "image/png": "[encoded data removed]",
      "text/plain": [
       "<Figure size 432x288 with 1 Axes>"
      ]
     },
     "metadata": {
      "needs_background": "light"
     },
     "output_type": "display_data"
    }
   ],
   "source": [
    "board_size = 4\n",
    "agent = Agent(board_size)\n",
    "env = Environment(board_size)\n",
    "rl = RLInterface(agent,env)\n",
    "\n",
    "rl.runTrials(500)\n",
    "\n",
    "plt.plot(rl.rewlist)"
   ]
  },
  {
   "cell_type": "code",
   "execution_count": 4,
   "metadata": {},
   "outputs": [
    {
     "name": "stdout",
     "output_type": "stream",
     "text": [
      "True\n"
     ]
    }
   ],
   "source": [
    "print(np.all(rl.env.state == rl.env.terminal_state))"
   ]
  },
  {
   "cell_type": "markdown",
   "metadata": {},
   "source": [
    "## Now, using a DQN"
   ]
  },
  {
   "cell_type": "code",
   "execution_count": 5,
   "metadata": {},
   "outputs": [],
   "source": [
    "import torch\n",
    "import torch.nn as nn\n",
    "import torch.autograd as autograd\n",
    "import torch.nn.functional as F"
   ]
  },
  {
   "cell_type": "code",
   "execution_count": 28,
   "metadata": {},
   "outputs": [],
   "source": [
    "GAMMA = 0.999\n",
    "EPS_START = 0.9\n",
    "EPS_END = 0.05\n",
    "EPS_DECAY = 200\n",
    "TARGET_UPDATE = 10\n",
    "\n",
    "# just a feed forward neural network to estimate Q(s,a) values\n",
    "class DQN(nn.Module):\n",
    "    def __init__(self, envstate_dim, action_dim):\n",
    "        super(DQN, self).__init__()\n",
    "        self.input_dim = envstate_dim\n",
    "        self.output_dim = action_dim\n",
    "        \n",
    "        self.ff = nn.Sequential(\n",
    "            nn.Linear(self.input_dim, 64),\n",
    "            nn.ReLU(),\n",
    "            nn.Linear(64, 124),\n",
    "            nn.ReLU(),\n",
    "            nn.Linear(124, 64),\n",
    "            nn.ReLU(),\n",
    "            nn.Linear(64, self.output_dim),\n",
    "#             nn.Softmax(dim=0)\n",
    "        )\n",
    "\n",
    "    def forward(self, state):\n",
    "        qvals = self.ff(state)\n",
    "        return qvals\n",
    "\n",
    "# replay buffers implemented as lists\n",
    "class Buffer():\n",
    "    def __init__(self):\n",
    "        self.buffer = []\n",
    "        \n",
    "    def size(self):\n",
    "        return len(self.buffer)\n",
    "        \n",
    "    def push(self,state,action,new_state,reward):\n",
    "        experience = (state,action,new_state,reward)\n",
    "        self.buffer.append(experience)\n",
    "    \n",
    "    def sample(self,batch_size):\n",
    "        batchSample = random.sample(self.buffer,batch_size)\n",
    "        # now need to put everyone in the correct columns\n",
    "        state_batch = []\n",
    "        action_batch = []\n",
    "        new_state_batch = []\n",
    "        reward_batch = []\n",
    "        \n",
    "        # prepare the batch sample for training\n",
    "        for experience in batchSample:\n",
    "            state,action,new_state,reward = experience\n",
    "            state_batch.append(state)\n",
    "            action_batch.append(action)\n",
    "            new_state_batch.append(new_state)\n",
    "            reward_batch.append(reward)\n",
    "        return (state_batch, action_batch, reward_batch, new_state_batch)\n",
    "    \n",
    "# a class for agents that use feedforward neural networks to calculate Q(s,a)\n",
    "class DeepAgent():\n",
    "    def __init__(self, board_size):\n",
    "        self.policy_net = DQN(board_size,board_size) # network used to calculate policy\n",
    "        self.target_net = DQN(board_size,board_size) # network used to calculate target\n",
    "        self.target_net.eval() # throw that baby in eval mode because we don't care about its gradients\n",
    "        self.target_update = 50 # \n",
    "        self.replay_buffer = Buffer() # replay buffer implemented as a list\n",
    "        self.eps_start = 0.1 # exploration rate\n",
    "        self.eps_end = 0.95\n",
    "        self.eps_decay = 300\n",
    "        self.epsilon = self.eps_start\n",
    "        self.gamma = 0.99 # discount\n",
    "        \n",
    "        self.optimizer = torch.optim.SGD(self.policy_net.parameters(),lr=0.01, momentum=0.9)\n",
    "#         self.optimizer = torch.optim.RMSprop(self.policy_net.parameters())\n",
    "#         self.optimizer = torch.optim.Adam(self.policy_net.parameters())\n",
    "        self.huber_loss = F.smooth_l1_loss\n",
    "        \n",
    "    def select_action(self,state):\n",
    "        state = torch.FloatTensor(state).float()\n",
    "        if rnd.rand() < self.epsilon: # greedy action\n",
    "            with torch.no_grad():\n",
    "                qvals = self.policy_net.forward(state) # forward run through the policy network\n",
    "                action = np.argmax(qvals.detach().numpy()) # need to detach from auto_grad before sending to numpy\n",
    "        else:\n",
    "            action = random.choice(list(range(board_size)))\n",
    "        return action\n",
    "    \n",
    "    def update(self, batch_size):\n",
    "        if self.replay_buffer.size() < batch_size:\n",
    "            return\n",
    "        batch = self.replay_buffer.sample(batch_size)\n",
    "        \n",
    "        self.optimizer.zero_grad() # zero_grad before computing loss\n",
    "        \n",
    "        loss = self.compute_loss(batch)\n",
    "\n",
    "        loss.backward() # perform back propagation\n",
    "        \n",
    "        for param in self.policy_net.parameters():\n",
    "            param.grad.data.clamp_(-1, 1)\n",
    "            \n",
    "        self.optimizer.step()\n",
    "        \n",
    "        return loss\n",
    "        \n",
    "    def compute_loss(self, batch):\n",
    "        states, actions, rewards, next_states = batch\n",
    "        states = torch.FloatTensor(states)\n",
    "        actions = torch.LongTensor(actions)\n",
    "        rewards = torch.FloatTensor(rewards)\n",
    "        next_states = torch.FloatTensor(next_states)\n",
    "\n",
    "        curr_Q = self.policy_net.forward(states).gather(1,actions.unsqueeze(1)) # calculate the current Q(s,a) estimates\n",
    "        next_Q = self.target_net.forward(next_states) # calculate Q'(s,a) (EV)\n",
    "        max_next_Q = torch.max(next_Q,1)[0] # equivalent of taking a greedy action\n",
    "        expected_Q = rewards + self.gamma * max_next_Q # Calculate total Q(s,a)\n",
    "        \n",
    "#         print(curr_Q.size())\n",
    "#         print(expected_Q.size())\n",
    "        loss = self.huber_loss(curr_Q, expected_Q.unsqueeze(1))\n",
    "        return loss\n",
    "    \n",
    "class DeepRLInterface():\n",
    "    def __init__(self,agent,environment):\n",
    "        self.agent = agent\n",
    "        self.env = environment\n",
    "        self.rewlist = []\n",
    "        self.batch_size = 50\n",
    "\n",
    "    def step(self):\n",
    "        state = env.state.copy()\n",
    "        \n",
    "        action = self.agent.select_action(state) # agent selects action\n",
    "        rew = self.env.execute_action(action) # execute agent action into the environment\n",
    "        new_state = env.state.copy() \n",
    "        if not np.all(rl.env.state == rl.env.terminal_state):\n",
    "            self.agent.replay_buffer.push(state,action,new_state,rew)\n",
    "        \n",
    "        loss = self.agent.update(self.batch_size)\n",
    "        self.losslist.append(loss)\n",
    "        return state,action,rew,new_state\n",
    "    \n",
    "    def runTrials(self,nTrials):\n",
    "        counter = 0 # for batch training\n",
    "        self.clist = []\n",
    "        self.rewlist = []\n",
    "        self.losslist = []\n",
    "        self.eps = []\n",
    "        for i in range(nTrials):\n",
    "            env.reset()\n",
    "            total_rew = 0\n",
    "            tstates,tactions,trews,tnewstates = [] , [] , [] , [] # accumulate states to debug\n",
    "            while not self.env.game_over: # while the game is not over, keep taking actions\n",
    "                state,action,rew,new_state = self.step()\n",
    "                total_rew += rew\n",
    "                \n",
    "                tstates.append(state)\n",
    "                tactions.append(action)\n",
    "                trews.append(rew)\n",
    "                tnewstates.append(tnewstates)\n",
    "                counter += 1\n",
    "                \n",
    "#             we seem to be getting stuck making the same bad action\n",
    "#             if total_rew < 0:\n",
    "#                 print('States:',tstates)\n",
    "#                 print('Actions:',tactions)\n",
    "#                 print('Rewards:',trews)\n",
    "#                 print('newStates:',tnewstates)\n",
    "            self.rewlist.append(total_rew)\n",
    "    \n",
    "            if counter % self.agent.target_update == 0: # update the target network\n",
    "                self.agent.target_net.load_state_dict(self.agent.policy_net.state_dict())\n",
    "            # update agent epsilon\n",
    "            self.agent.epsilon = (self.agent.eps_end + (self.agent.eps_start - self.agent.eps_end) * \n",
    "                                                        np.exp(-1. * counter / self.agent.eps_decay))\n",
    "            self.eps.append(self.agent.epsilon)\n",
    "            "
   ]
  },
  {
   "cell_type": "code",
   "execution_count": 34,
   "metadata": {},
   "outputs": [],
   "source": [
    "board_size = 4\n",
    "agent = DeepAgent(board_size)\n",
    "env = Environment(board_size)\n",
    "rl = DeepRLInterface(agent,env)\n",
    "\n",
    "rl.runTrials(500)\n"
   ]
  },
  {
   "cell_type": "code",
   "execution_count": 35,
   "metadata": {},
   "outputs": [
    {
     "data": {
      "text/plain": [
       "[<matplotlib.lines.Line2D at 0x12a910c50>]"
      ]
     },
     "execution_count": 35,
     "metadata": {},
     "output_type": "execute_result"
    },
    {
     "data": {
      "image/png": "[encoded data removed]",
      "text/plain": [
       "<Figure size 432x288 with 1 Axes>"
      ]
     },
     "metadata": {
      "needs_background": "light"
     },
     "output_type": "display_data"
    },
    {
     "data": {
      "image/png": "[encoded data removed]",
      "text/plain": [
       "<Figure size 432x288 with 1 Axes>"
      ]
     },
     "metadata": {
      "needs_background": "light"
     },
     "output_type": "display_data"
    }
   ],
   "source": [
    "plt.title('Batch Loss')\n",
    "plt.plot(rl.losslist)\n",
    "plt.xlabel('Timestep')\n",
    "plt.ylabel('Loss')\n",
    "plt.figure()\n",
    "plt.title('Game Rewards')\n",
    "plt.xlabel('Game')\n",
    "plt.ylabel('Accumulated Reward')\n",
    "plt.plot(rl.rewlist)\n"
   ]
  },
  {
   "cell_type": "code",
   "execution_count": 36,
   "metadata": {},
   "outputs": [
    {
     "name": "stdout",
     "output_type": "stream",
     "text": [
      "Q values for state  [0, 1, 1, 1] :  [3.1401424, 1.7045406, 1.6679184, 1.6673598] -> action 0\n",
      "Q values for state  [1, 0, 1, 1] :  [1.627376, 3.1256948, 1.6335013, 1.629583] -> action 1\n",
      "Q values for state  [1, 1, 0, 1] :  [1.5684097, 1.6609493, 3.033236, 1.5845115] -> action 2\n",
      "Q values for state  [1, 1, 1, 0] :  [1.5954088, 1.5848771, 1.5722404, 3.062582] -> action 3\n",
      "Q values for state  [0, 0, 1, 1] :  [3.6364446, 3.677867, 2.1714516, 2.1604738] -> action 1\n",
      "Q values for state  [0, 1, 0, 1] :  [3.6954966, 2.1600657, 3.7044158, 2.2241704] -> action 2\n",
      "Q values for state  [1, 0, 0, 1] :  [2.1725368, 3.612753, 3.6476483, 2.3108978] -> action 2\n",
      "Q values for state  [0, 0, 0, 0] :  [4.5795426, 4.4408746, 4.5556192, 4.616192] -> action 3\n",
      "Q values for state  [0, 0, 0, 1] :  [4.149605, 4.0902715, 4.137716, 2.6238265] -> action 0\n",
      "Q values for state  [0, 0, 1, 0] :  [4.140303, 4.129592, 2.5354776, 4.2231035] -> action 3\n",
      "Q values for state  [0, 1, 0, 0] :  [4.0789065, 2.5970469, 4.108357, 4.0659423] -> action 2\n"
     ]
    }
   ],
   "source": [
    "# Q values check out\n",
    "for state in [[0,1,1,1] ,[1,0,1,1],[1,1,0,1],[1,1,1,0],[0,0,1,1],[0,1,0,1],[1,0,0,1],[0,0,0,0],[0,0,0,1],[0,0,1,0],\n",
    "              [0,1,0,0]]:\n",
    "    q = list(rl.agent.policy_net(torch.FloatTensor(state)).detach().numpy())\n",
    "    argmax = np.argmax(list(rl.agent.policy_net(torch.FloatTensor(state)).detach().numpy()))\n",
    "    print(\"Q values for state \",state,\": \",q,\"-> action\",argmax)\n"
   ]
  },
  {
   "cell_type": "code",
   "execution_count": null,
   "metadata": {},
   "outputs": [],
   "source": []
  }
 ],
 "metadata": {
  "kernelspec": {
   "display_name": "Python 3",
   "language": "python",
   "name": "python3"
  },
  "language_info": {
   "codemirror_mode": {
    "name": "ipython",
    "version": 3
   },
   "file_extension": ".py",
   "mimetype": "text/x-python",
   "name": "python",
   "nbconvert_exporter": "python",
   "pygments_lexer": "ipython3",
   "version": "3.7.3"
  }
 },
 "nbformat": 4,
 "nbformat_minor": 2
}
